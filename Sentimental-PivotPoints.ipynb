{
 "cells": [
  {
   "cell_type": "code",
   "execution_count": 1,
   "metadata": {},
   "outputs": [],
   "source": [
    "import pandas as pd\n",
    "import yfinance as yf\n",
    "import datetime as dt\n",
    "import mplfinance as mpf\n",
    "from bs4 import BeautifulSoup\n",
    "import matplotlib.pyplot as plt\n",
    "from urllib.request import Request\n",
    "from urllib.request import urlopen\n",
    "from vaderSentiment.vaderSentiment import SentimentIntensityAnalyzer"
   ]
  },
  {
   "cell_type": "code",
   "execution_count": 34,
   "metadata": {},
   "outputs": [],
   "source": [
    "# number of news to display per ticker\n",
    "n = 5\n",
    "\n",
    "# tickers list to choose, can be improved by making it an input arguement\n",
    "tickers = ['GOOGL']"
   ]
  },
  {
   "cell_type": "code",
   "execution_count": 35,
   "metadata": {},
   "outputs": [
    {
     "name": "stdout",
     "output_type": "stream",
     "text": [
      "\n",
      "\n",
      "Recent News Headlines for GOOGL: \n",
      "Top 10 Generative Artificial Intelligence Companies to Invest In ( May-28-23 11:43AM )\n",
      "1 Semiconductor Stock Set to Join Apple, Microsoft, Amazon, and Alphabet in the $1 Trillion Club ( 10:35AM )\n",
      "South Koreas Naver to target foreign governments with latest ChatGPT-like AI model ( 12:00AM )\n",
      "The 5 Best Cheap Phone Plans You Can Get Now ( May-27-23 12:30PM )\n",
      "Billionaire Stanley Druckenmillers 2023 Portfolio: Top 10 Stock Picks ( 12:22PM )\n"
     ]
    }
   ],
   "source": [
    "# to access a ticker's page on FinViz, the ticker symbol is appended after this specific URL. BeautifulSoup is a commonly used web-scrapping library\n",
    "finviz_url = 'https://finviz.com/quote.ashx?t='\n",
    "news_tables = {}\n",
    "\n",
    "for ticker in tickers:\n",
    "    url = finviz_url + ticker\n",
    "    req = Request(url=url,headers={'User-Agent': 'Mozilla/5.0 (Windows NT 6.1; WOW64; rv:20.0) Gecko/20100101 Firefox/20.0'}) \n",
    "    resp = urlopen(req)    \n",
    "    html = BeautifulSoup(resp, features=\"lxml\")\n",
    "    news_table = html.find(id='news-table')\n",
    "    news_tables[ticker] = news_table\n",
    "\n",
    "try:\n",
    "    for ticker in tickers:\n",
    "        df = news_tables[ticker]\n",
    "        df_tr = df.findAll('tr')\n",
    "    \n",
    "        print ('\\n')\n",
    "        print ('Recent News Headlines for {}: '.format(ticker))\n",
    "        \n",
    "        for i, table_row in enumerate(df_tr):\n",
    "            a_text = table_row.a.text\n",
    "            td_text = table_row.td.text\n",
    "            td_text = td_text.strip()\n",
    "            print(a_text,'(',td_text,')')\n",
    "            if i == n-1:\n",
    "                break\n",
    "except KeyError:\n",
    "    pass"
   ]
  },
  {
   "cell_type": "code",
   "execution_count": 36,
   "metadata": {},
   "outputs": [],
   "source": [
    "# Iterating through the news\n",
    "parsed_news = []\n",
    "for file_name, news_table in news_tables.items():\n",
    "    for x in news_table.findAll('tr'):\n",
    "        text = x.a.get_text() \n",
    "        date_scrape = x.td.text.split()\n",
    "\n",
    "        if len(date_scrape) == 1:\n",
    "            time = date_scrape[0]\n",
    "            \n",
    "        else:\n",
    "            date = date_scrape[0]\n",
    "            time = date_scrape[1]\n",
    "\n",
    "        ticker = file_name.split('_')[0]\n",
    "        \n",
    "        parsed_news.append([ticker, date, time, text])"
   ]
  },
  {
   "cell_type": "code",
   "execution_count": 37,
   "metadata": {},
   "outputs": [],
   "source": [
    "# Using the Vader to perform Sentimental Analysis using its default parameters (not fine-tuned)\n",
    "analyzer = SentimentIntensityAnalyzer()\n",
    "\n",
    "columns = ['Ticker', 'Date', 'Time', 'Headline']\n",
    "news = pd.DataFrame(parsed_news, columns=columns)\n",
    "scores = news['Headline'].apply(analyzer.polarity_scores).tolist()\n",
    "\n",
    "df_scores = pd.DataFrame(scores)\n",
    "news = news.join(df_scores, rsuffix='_right')"
   ]
  },
  {
   "cell_type": "code",
   "execution_count": 38,
   "metadata": {},
   "outputs": [
    {
     "name": "stdout",
     "output_type": "stream",
     "text": [
      "\n",
      "\n",
      "              Date     Time  neg    neu    pos  compound\n",
      "Ticker                                                  \n",
      "GOOGL   2023-05-28  11:43AM  0.0  0.588  0.412    0.5994\n",
      "GOOGL   2023-05-28  10:35AM  0.0  0.782  0.218    0.4404\n",
      "GOOGL   2023-05-28  12:00AM  0.0  1.000  0.000    0.0000\n",
      "GOOGL   2023-05-27  12:30PM  0.0  0.682  0.318    0.6369\n",
      "GOOGL   2023-05-27  12:22PM  0.0  0.816  0.184    0.2023\n",
      "\n",
      "\n",
      "        Mean Sentiment\n",
      "Ticker                \n",
      "GOOGL             0.11\n"
     ]
    }
   ],
   "source": [
    "# Viewing the overall data and summarising the compound score\n",
    "news['Date'] = pd.to_datetime(news.Date).dt.date\n",
    "\n",
    "unique_ticker = news['Ticker'].unique().tolist()\n",
    "news_dict = {name: news.loc[news['Ticker'] == name] for name in unique_ticker}\n",
    "\n",
    "values = []\n",
    "for ticker in tickers: \n",
    "    dataframe = news_dict[ticker]\n",
    "    dataframe = dataframe.set_index('Ticker')\n",
    "    dataframe = dataframe.drop(columns = ['Headline'])\n",
    "    print ('\\n')\n",
    "    print (dataframe.head())\n",
    "    \n",
    "    mean = round(dataframe['compound'].mean(), 2)\n",
    "    values.append(mean)\n",
    "    \n",
    "df = pd.DataFrame(list(zip(tickers, values)), columns =['Ticker', 'Mean Sentiment']) \n",
    "df = df.set_index('Ticker')\n",
    "df = df.sort_values('Mean Sentiment', ascending=False)\n",
    "print ('\\n')\n",
    "print (df)"
   ]
  },
  {
   "cell_type": "code",
   "execution_count": 39,
   "metadata": {},
   "outputs": [
    {
     "name": "stdout",
     "output_type": "stream",
     "text": [
      "[*********************100%***********************]  1 of 1 completed\n"
     ]
    }
   ],
   "source": [
    "start_date = dt.date.today() - dt.timedelta(days=60)\n",
    "end_date =  dt.date.today()\n",
    "\n",
    "stock_data = yf.download(ticker, start=start_date, end=end_date)"
   ]
  },
  {
   "cell_type": "code",
   "execution_count": 40,
   "metadata": {},
   "outputs": [],
   "source": [
    "# Calculating pivot points\n",
    "def calculate_pivot_points(data):\n",
    "    pivot_points = pd.DataFrame()\n",
    "    \n",
    "    pivot_points['Pivot'] = (data['High'] + data['Low'] + data['Close']) / 3\n",
    "    \n",
    "    pivot_points['R1'] = (2 * pivot_points['Pivot']) - data['Low']\n",
    "    \n",
    "    pivot_points['S1'] = (2 * pivot_points['Pivot']) - data['High']\n",
    "    \n",
    "    pivot_points['R2'] = pivot_points['Pivot'] + (data['High'] - data['Low'])\n",
    "    \n",
    "    pivot_points['S2'] = pivot_points['Pivot'] - (data['High'] - data['Low'])\n",
    "    \n",
    "    pivot_points['R3'] = data['High'] + 2 * (pivot_points['Pivot'] - data['Low'])\n",
    "    \n",
    "    pivot_points['S3'] = data['Low'] - 2 * (data['High'] - pivot_points['Pivot'])\n",
    "    \n",
    "    return pivot_points\n",
    "\n",
    "# Calculate pivot points for the stock data\n",
    "pivot_points = calculate_pivot_points(stock_data)"
   ]
  },
  {
   "cell_type": "code",
   "execution_count": 41,
   "metadata": {},
   "outputs": [
    {
     "data": {
      "image/png": "[encoded data removed]",
      "text/plain": [
       "<Figure size 864x432 with 1 Axes>"
      ]
     },
     "metadata": {
      "needs_background": "light"
     },
     "output_type": "display_data"
    }
   ],
   "source": [
    "# Create a candlestick chart\n",
    "fig, ax = plt.subplots(figsize=(12, 6))\n",
    "mpf.plot(stock_data, type='candle', ax=ax)\n",
    "\n",
    "# Plot pivot points\n",
    "pivots = ['R3', 'R2', 'R1', 'Pivot', 'S1', 'S2', 'S3']\n",
    "colors = ['r', 'g', 'b', 'c', 'm', 'y']\n",
    "for level, color in zip(pivots, colors):\n",
    "    ax.axhline(y=pivot_points[level].iloc[-1], linestyle='--', color=color, label=level)\n",
    " \n",
    "# Customize the chart\n",
    "ax.legend()\n",
    "ax.set_title(f'{ticker} Stock Price with Pivot Points')\n",
    "ax.set_xlabel('Date')\n",
    "ax.set_ylabel('Price')\n",
    "\n",
    "# Display the chart\n",
    "plt.show()"
   ]
  }
 ],
 "metadata": {
  "kernelspec": {
   "display_name": "Python 3.10.5 64-bit",
   "language": "python",
   "name": "python3"
  },
  "language_info": {
   "codemirror_mode": {
    "name": "ipython",
    "version": 3
   },
   "file_extension": ".py",
   "mimetype": "text/x-python",
   "name": "python",
   "nbconvert_exporter": "python",
   "pygments_lexer": "ipython3",
   "version": "3.10.5"
  },
  "orig_nbformat": 4,
  "vscode": {
   "interpreter": {
    "hash": "52634da84371cba311ea128a5ea7cdc41ff074b781779e754b270ff9f8153cee"
   }
  }
 },
 "nbformat": 4,
 "nbformat_minor": 2
}
